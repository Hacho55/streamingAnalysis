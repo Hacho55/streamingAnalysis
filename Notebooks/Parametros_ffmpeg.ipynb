{
 "cells": [
  {
   "cell_type": "code",
   "execution_count": 44,
   "metadata": {},
   "outputs": [],
   "source": [
    "import os\n",
    "import subprocess\n",
    "import ffmpeg"
   ]
  },
  {
   "cell_type": "code",
   "execution_count": 56,
   "metadata": {},
   "outputs": [],
   "source": [
    "file_in = \"../Data/Videos/test.mp4\"\n",
    "file_out = \"../Data/Exports/test.mp4\""
   ]
  },
  {
   "cell_type": "code",
   "execution_count": 57,
   "metadata": {},
   "outputs": [
    {
     "name": "stdout",
     "output_type": "stream",
     "text": [
      "ffmpeg version 4.3.1 Copyright (c) 2000-2020 the FFmpeg developers\n",
      "  built with clang version 10.0.1\n",
      "  configuration: --prefix=/Users/runner/miniforge3/conda-bld/ffmpeg_1596712264195/_h_env_placehold_placehold_placehold_placehold_placehold_placehold_placehold_placehold_placehold_placehold_placehold_placehold_placehold_placehold_placehold_placehold_placehold_placehold_placehold_pl --cc=x86_64-apple-darwin13.4.0-clang --disable-doc --disable-openssl --enable-avresample --enable-gnutls --enable-gpl --enable-hardcoded-tables --enable-libfreetype --enable-libopenh264 --enable-libx264 --enable-pic --enable-pthreads --enable-shared --enable-static --enable-version3 --enable-zlib --enable-libmp3lame\n",
      "  libavutil      56. 51.100 / 56. 51.100\n",
      "  libavcodec     58. 91.100 / 58. 91.100\n",
      "  libavformat    58. 45.100 / 58. 45.100\n",
      "  libavdevice    58. 10.100 / 58. 10.100\n",
      "  libavfilter     7. 85.100 /  7. 85.100\n",
      "  libavresample   4.  0.  0 /  4.  0.  0\n",
      "  libswscale      5.  7.100 /  5.  7.100\n",
      "  libswresample   3.  7.100 /  3.  7.100\n",
      "  libpostproc    55.  7.100 / 55.  7.100\n",
      "Input #0, mov,mp4,m4a,3gp,3g2,mj2, from '../Data/Videos/test.mp4':\n",
      "  Metadata:\n",
      "    major_brand     : mp42\n",
      "    minor_version   : 0\n",
      "    compatible_brands: mp42mp41\n",
      "    creation_time   : 2020-08-07T16:32:07.000000Z\n",
      "  Duration: 00:02:00.56, start: 0.000000, bitrate: 9919 kb/s\n",
      "    Stream #0:0(eng): Video: h264 (Main) (avc1 / 0x31637661), yuv420p(tv, bt709), 1280x720, 9916 kb/s, 25 fps, 25 tbr, 25k tbn, 50 tbc (default)\n",
      "    Metadata:\n",
      "      creation_time   : 2020-08-07T16:32:07.000000Z\n",
      "      handler_name    : ?Mainconcept Video Media Handler\n",
      "      encoder         : AVC Coding\n",
      "Stream mapping:\n",
      "  Stream #0:0 -> #0:0 (h264 (native) -> h264 (libx264))\n",
      "Press [q] to stop, [?] for help\n",
      "\u001b[1;36m[libx264 @ 0x7ff12400e800] \u001b[0musing cpu capabilities: MMX2 SSE2Fast SSSE3 SSE4.2 AVX FMA3 BMI2 AVX2\n",
      "\u001b[1;36m[libx264 @ 0x7ff12400e800] \u001b[0mprofile High, level 3.1\n",
      "\u001b[1;36m[libx264 @ 0x7ff12400e800] \u001b[0m264 - core 152 - H.264/MPEG-4 AVC codec - Copyleft 2003-2017 - http://www.videolan.org/x264.html - options: cabac=1 ref=3 deblock=1:0:0 analyse=0x3:0x113 me=hex subme=7 psy=1 psy_rd=1.00:0.00 mixed_ref=1 me_range=16 chroma_me=1 trellis=1 8x8dct=1 cqm=0 deadzone=21,11 fast_pskip=1 chroma_qp_offset=-2 threads=6 lookahead_threads=1 sliced_threads=0 nr=0 decimate=1 interlaced=0 bluray_compat=0 constrained_intra=0 bframes=3 b_pyramid=2 b_adapt=1 b_bias=0 direct=1 weightb=1 open_gop=0 weightp=2 keyint=250 keyint_min=1 scenecut=40 intra_refresh=0 rc_lookahead=40 rc=abr mbtree=1 bitrate=3000 ratetol=1.0 qcomp=0.60 qpmin=0 qpmax=69 qpstep=4 ip_ratio=1.40 aq=1:1.00\n",
      "Output #0, mp4, to '../Data/Exports/test.mp4':\n",
      "  Metadata:\n",
      "    major_brand     : mp42\n",
      "    minor_version   : 0\n",
      "    compatible_brands: mp42mp41\n",
      "    encoder         : Lavf58.45.100\n",
      "    Stream #0:0(eng): Video: h264 (libx264) (avc1 / 0x31637661), yuv420p, 1280x720, q=-1--1, 3000 kb/s, 1 fps, 16384 tbn, 1 tbc (default)\n",
      "    Metadata:\n",
      "      creation_time   : 2020-08-07T16:32:07.000000Z\n",
      "      handler_name    : ?Mainconcept Video Media Handler\n",
      "      encoder         : Lavc58.91.100 libx264\n",
      "    Side data:\n",
      "      cpb: bitrate max/min/avg: 0/0/3000000 buffer size: 0 vbv_delay: N/A\n",
      "\u001b[1;35m[mp4 @ 0x7ff12400d600] \u001b[0mStarting second pass: moving the moov atom to the beginning of the file68x     6x    \n",
      "frame=  122 fps=5.1 q=-1.0 Lsize=   38214kB time=00:01:59.00 bitrate=2630.7kbits/s dup=0 drop=2892 speed=4.94x    \n",
      "video:38211kB audio:0kB subtitle:0kB other streams:0kB global headers:0kB muxing overhead: 0.006560%\n",
      "\u001b[1;36m[libx264 @ 0x7ff12400e800] \u001b[0mframe I:1     Avg QP: 0.23  size:207873\n",
      "\u001b[1;36m[libx264 @ 0x7ff12400e800] \u001b[0mframe P:35    Avg QP: 0.61  size:345532\n",
      "\u001b[1;36m[libx264 @ 0x7ff12400e800] \u001b[0mframe B:86    Avg QP: 1.35  size:311935\n",
      "\u001b[1;36m[libx264 @ 0x7ff12400e800] \u001b[0mconsecutive B-frames:  4.1%  0.0% 17.2% 78.7%\n",
      "\u001b[1;36m[libx264 @ 0x7ff12400e800] \u001b[0mmb I  I16..4: 19.0%  0.6% 80.4%\n",
      "\u001b[1;36m[libx264 @ 0x7ff12400e800] \u001b[0mmb P  I16..4: 15.0%  8.1% 46.5%  P16..4: 10.0% 11.7%  8.7%  0.0%  0.0%    skip: 0.1%\n",
      "\u001b[1;36m[libx264 @ 0x7ff12400e800] \u001b[0mmb B  I16..4:  7.6%  4.2% 30.1%  B16..8: 22.9% 14.2%  9.7%  direct:10.5%  skip: 0.9%  L0:34.6% L1:44.0% BI:21.5%\n",
      "\u001b[1;36m[libx264 @ 0x7ff12400e800] \u001b[0mfinal ratefactor: 4.34\n",
      "\u001b[1;36m[libx264 @ 0x7ff12400e800] \u001b[0m8x8 transform intra:10.5% inter:14.8%\n",
      "\u001b[1;36m[libx264 @ 0x7ff12400e800] \u001b[0mcoded y,uvDC,uvAC intra: 90.3% 93.8% 87.1% inter: 92.5% 96.6% 95.5%\n",
      "\u001b[1;36m[libx264 @ 0x7ff12400e800] \u001b[0mi16 v,h,dc,p: 37% 33% 17% 13%\n",
      "\u001b[1;36m[libx264 @ 0x7ff12400e800] \u001b[0mi8 v,h,dc,ddl,ddr,vr,hd,vl,hu: 33% 25% 14%  3%  4%  5%  4%  6%  5%\n",
      "\u001b[1;36m[libx264 @ 0x7ff12400e800] \u001b[0mi4 v,h,dc,ddl,ddr,vr,hd,vl,hu: 35% 26%  9%  4%  5%  5%  5%  6%  5%\n",
      "\u001b[1;36m[libx264 @ 0x7ff12400e800] \u001b[0mi8c dc,h,v,p: 37% 27% 26% 10%\n",
      "\u001b[1;36m[libx264 @ 0x7ff12400e800] \u001b[0mWeighted P-Frames: Y:2.9% UV:0.0%\n",
      "\u001b[1;36m[libx264 @ 0x7ff12400e800] \u001b[0mref P L0: 39.6% 18.0% 24.3% 17.9%  0.2%\n",
      "\u001b[1;36m[libx264 @ 0x7ff12400e800] \u001b[0mref B L0: 74.5% 17.8%  7.8%\n",
      "\u001b[1;36m[libx264 @ 0x7ff12400e800] \u001b[0mref B L1: 94.7%  5.3%\n",
      "\u001b[1;36m[libx264 @ 0x7ff12400e800] \u001b[0mkb/s:2565.76\n"
     ]
    }
   ],
   "source": [
    "#Video procesing\n",
    "!ffmpeg -i $file_in -an -r 1 -s 1280x720 -c:v libx264 -b:v 3M -strict -2 -movflags faststart $file_out"
   ]
  },
  {
   "cell_type": "code",
   "execution_count": 49,
   "metadata": {},
   "outputs": [
    {
     "name": "stdout",
     "output_type": "stream",
     "text": [
      "ffmpeg version 4.3.1 Copyright (c) 2000-2020 the FFmpeg developers\n",
      "  built with clang version 10.0.1\n",
      "  configuration: --prefix=/Users/runner/miniforge3/conda-bld/ffmpeg_1596712264195/_h_env_placehold_placehold_placehold_placehold_placehold_placehold_placehold_placehold_placehold_placehold_placehold_placehold_placehold_placehold_placehold_placehold_placehold_placehold_placehold_pl --cc=x86_64-apple-darwin13.4.0-clang --disable-doc --disable-openssl --enable-avresample --enable-gnutls --enable-gpl --enable-hardcoded-tables --enable-libfreetype --enable-libopenh264 --enable-libx264 --enable-pic --enable-pthreads --enable-shared --enable-static --enable-version3 --enable-zlib --enable-libmp3lame\n",
      "  libavutil      56. 51.100 / 56. 51.100\n",
      "  libavcodec     58. 91.100 / 58. 91.100\n",
      "  libavformat    58. 45.100 / 58. 45.100\n",
      "  libavdevice    58. 10.100 / 58. 10.100\n",
      "  libavfilter     7. 85.100 /  7. 85.100\n",
      "  libavresample   4.  0.  0 /  4.  0.  0\n",
      "  libswscale      5.  7.100 /  5.  7.100\n",
      "  libswresample   3.  7.100 /  3.  7.100\n",
      "  libpostproc    55.  7.100 / 55.  7.100\n",
      "Input #0, mov,mp4,m4a,3gp,3g2,mj2, from '../Data/Videos/C5N2020-08-11-17-59-23.mov':\n",
      "  Metadata:\n",
      "    major_brand     : qt  \n",
      "    minor_version   : 0\n",
      "    compatible_brands: qt  \n",
      "    creation_time   : 2020-08-11T20:59:23.000000Z\n",
      "  Duration: 02:01:51.80, start: 0.000000, bitrate: 6919 kb/s\n",
      "    Stream #0:0(und): Video: h264 (High) (avc1 / 0x31637661), yuv420p, 1280x720 [SAR 1:1 DAR 16:9], 6794 kb/s, 25 fps, 25 tbr, 600 tbn, 1200 tbc (default)\n",
      "    Metadata:\n",
      "      creation_time   : 2020-08-11T20:59:23.000000Z\n",
      "      handler_name    : Core Media Video\n",
      "      encoder         : H.264\n",
      "    Stream #0:1(und): Audio: aac (LC) (mp4a / 0x6134706D), 48000 Hz, stereo, fltp, 115 kb/s (default)\n",
      "    Metadata:\n",
      "      creation_time   : 2020-08-11T20:59:23.000000Z\n",
      "      handler_name    : Core Media Audio\n",
      "Stream mapping:\n",
      "  Stream #0:1 -> #0:0 (aac (native) -> pcm_s16le (native))\n",
      "Press [q] to stop, [?] for help\n",
      "Output #0, wav, to '../Data/Exports/C5N2020-08-11-17-59-23.wav':\n",
      "  Metadata:\n",
      "    major_brand     : qt  \n",
      "    minor_version   : 0\n",
      "    compatible_brands: qt  \n",
      "    ISFT            : Lavf58.45.100\n",
      "    Stream #0:0(und): Audio: pcm_s16le ([1][0][0][0] / 0x0001), 22050 Hz, mono, s16, 352 kb/s (default)\n",
      "    Metadata:\n",
      "      creation_time   : 2020-08-11T20:59:23.000000Z\n",
      "      handler_name    : Core Media Audio\n",
      "      encoder         : Lavc58.91.100 pcm_s16le\n",
      "size=  314893kB time=02:01:51.80 bitrate= 352.8kbits/s speed= 332x    \n",
      "video:0kB audio:314893kB subtitle:0kB other streams:0kB global headers:0kB muxing overhead: 0.000024%\n"
     ]
    }
   ],
   "source": [
    "#audio extraction\n",
    "!ffmpeg -i ../Data/Videos/C5N2020-08-11-17-59-23.mov -vn -acodec pcm_s16le -ac 1 -ar 22050 ../Data/Exports/C5N2020-08-11-17-59-23.wav"
   ]
  },
  {
   "cell_type": "code",
   "execution_count": 33,
   "metadata": {},
   "outputs": [],
   "source": [
    "import ffmpeg\n",
    "import sys"
   ]
  },
  {
   "cell_type": "code",
   "execution_count": 34,
   "metadata": {},
   "outputs": [
    {
     "data": {
      "text/plain": [
       "(b'',\n",
       " b\"ffmpeg version 4.3.1 Copyright (c) 2000-2020 the FFmpeg developers\\n  built with clang version 10.0.1\\n  configuration: --prefix=/Users/runner/miniforge3/conda-bld/ffmpeg_1596712264195/_h_env_placehold_placehold_placehold_placehold_placehold_placehold_placehold_placehold_placehold_placehold_placehold_placehold_placehold_placehold_placehold_placehold_placehold_placehold_placehold_pl --cc=x86_64-apple-darwin13.4.0-clang --disable-doc --disable-openssl --enable-avresample --enable-gnutls --enable-gpl --enable-hardcoded-tables --enable-libfreetype --enable-libopenh264 --enable-libx264 --enable-pic --enable-pthreads --enable-shared --enable-static --enable-version3 --enable-zlib --enable-libmp3lame\\n  libavutil      56. 51.100 / 56. 51.100\\n  libavcodec     58. 91.100 / 58. 91.100\\n  libavformat    58. 45.100 / 58. 45.100\\n  libavdevice    58. 10.100 / 58. 10.100\\n  libavfilter     7. 85.100 /  7. 85.100\\n  libavresample   4.  0.  0 /  4.  0.  0\\n  libswscale      5.  7.100 /  5.  7.100\\n  libswresample   3.  7.100 /  3.  7.100\\n  libpostproc    55.  7.100 / 55.  7.100\\nInput #0, mov,mp4,m4a,3gp,3g2,mj2, from 'test.mp4':\\n  Metadata:\\n    major_brand     : mp42\\n    minor_version   : 0\\n    compatible_brands: mp42mp41\\n    creation_time   : 2020-08-07T16:28:33.000000Z\\n  Duration: 00:02:07.28, start: 0.000000, bitrate: 8303 kb/s\\n    Stream #0:0(eng): Video: h264 (Main) (avc1 / 0x31637661), yuv420p(tv, bt709), 1280x720, 8300 kb/s, 25 fps, 25 tbr, 25k tbn, 50 tbc (default)\\n    Metadata:\\n      creation_time   : 2020-08-07T16:28:33.000000Z\\n      handler_name    : ?Mainconcept Video Media Handler\\n      encoder         : AVC Coding\\nStream mapping:\\n  Stream #0:0 (h264) -> scale\\n  scale -> Stream #0:0 (png)\\nPress [q] to stop, [?] for help\\nOutput #0, image2, to 'test.png':\\n  Metadata:\\n    major_brand     : mp42\\n    minor_version   : 0\\n    compatible_brands: mp42mp41\\n    encoder         : Lavf58.45.100\\n    Stream #0:0: Video: png, rgb24, 200x113, q=2-31, 200 kb/s, 25 fps, 25 tbn, 25 tbc (default)\\n    Metadata:\\n      encoder         : Lavc58.91.100 png\\nframe=    1 fps=0.0 q=-0.0 Lsize=N/A time=00:00:00.04 bitrate=N/A speed=1.25x    \\nvideo:31kB audio:0kB subtitle:0kB other streams:0kB global headers:0kB muxing overhead: unknown\\n\")"
      ]
     },
     "execution_count": 34,
     "metadata": {},
     "output_type": "execute_result"
    }
   ],
   "source": [
    "#pruebas inconclusas con ffmpeg-python library\n",
    "(\n",
    "    ffmpeg\n",
    "    .input('test.mp4', ss=1)\n",
    "    .filter('scale', 200, -1)\n",
    "    .output('test.png', vframes=1)\n",
    "    .overwrite_output()\n",
    "    .run(capture_stdout=True, capture_stderr=True)\n",
    ")"
   ]
  },
  {
   "cell_type": "code",
   "execution_count": 58,
   "metadata": {},
   "outputs": [],
   "source": [
    "#!ffmpeg -formats"
   ]
  },
  {
   "cell_type": "code",
   "execution_count": null,
   "metadata": {},
   "outputs": [],
   "source": []
  }
 ],
 "metadata": {
  "kernelspec": {
   "display_name": "Python 3",
   "language": "python",
   "name": "python3"
  },
  "language_info": {
   "codemirror_mode": {
    "name": "ipython",
    "version": 3
   },
   "file_extension": ".py",
   "mimetype": "text/x-python",
   "name": "python",
   "nbconvert_exporter": "python",
   "pygments_lexer": "ipython3",
   "version": "3.8.5"
  }
 },
 "nbformat": 4,
 "nbformat_minor": 4
}

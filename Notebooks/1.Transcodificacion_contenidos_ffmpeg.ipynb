{
 "cells": [
  {
   "cell_type": "markdown",
   "metadata": {},
   "source": [
    "# Paso 1 - Transcodificación de los materiales audiovisuales\n",
    "---\n",
    "#### Parametros ffmpeg para conversión de Audio y Video\n"
   ]
  },
  {
   "cell_type": "code",
   "execution_count": 6,
   "metadata": {},
   "outputs": [],
   "source": [
    "import os\n",
    "import subprocess\n",
    "#import ffmpeg"
   ]
  },
  {
   "cell_type": "code",
   "execution_count": 7,
   "metadata": {},
   "outputs": [],
   "source": [
    "file_in = \"../Data/Originales/TN2020-08-25-18-59-36.mov\"\n",
    "file_out_v = \"../Data/Exports/TN2020-08-25-18-59-36.mp4\"\n",
    "file_out_a = \"../Data/Exports/TN2020-08-25-18-59-36.wav\""
   ]
  },
  {
   "cell_type": "code",
   "execution_count": 8,
   "metadata": {},
   "outputs": [
    {
     "name": "stdout",
     "output_type": "stream",
     "text": [
      "ffmpeg version 4.3.1 Copyright (c) 2000-2020 the FFmpeg developers\n",
      "  built with clang version 10.0.1\n",
      "  configuration: --prefix=/Users/runner/miniforge3/conda-bld/ffmpeg_1596712264195/_h_env_placehold_placehold_placehold_placehold_placehold_placehold_placehold_placehold_placehold_placehold_placehold_placehold_placehold_placehold_placehold_placehold_placehold_placehold_placehold_pl --cc=x86_64-apple-darwin13.4.0-clang --disable-doc --disable-openssl --enable-avresample --enable-gnutls --enable-gpl --enable-hardcoded-tables --enable-libfreetype --enable-libopenh264 --enable-libx264 --enable-pic --enable-pthreads --enable-shared --enable-static --enable-version3 --enable-zlib --enable-libmp3lame\n",
      "  libavutil      56. 51.100 / 56. 51.100\n",
      "  libavcodec     58. 91.100 / 58. 91.100\n",
      "  libavformat    58. 45.100 / 58. 45.100\n",
      "  libavdevice    58. 10.100 / 58. 10.100\n",
      "  libavfilter     7. 85.100 /  7. 85.100\n",
      "  libavresample   4.  0.  0 /  4.  0.  0\n",
      "  libswscale      5.  7.100 /  5.  7.100\n",
      "  libswresample   3.  7.100 /  3.  7.100\n",
      "  libpostproc    55.  7.100 / 55.  7.100\n",
      "Input #0, mov,mp4,m4a,3gp,3g2,mj2, from '../Data/Originales/TN2020-08-25-18-59-36.mov':\n",
      "  Metadata:\n",
      "    major_brand     : qt  \n",
      "    minor_version   : 0\n",
      "    compatible_brands: qt  \n",
      "    creation_time   : 2020-08-25T21:59:36.000000Z\n",
      "  Duration: 02:01:22.00, start: 0.000000, bitrate: 7544 kb/s\n",
      "    Stream #0:0(und): Video: h264 (High) (avc1 / 0x31637661), yuv420p, 1280x720 [SAR 1:1 DAR 16:9], 7412 kb/s, 24.99 fps, 25 tbr, 600 tbn, 1200 tbc (default)\n",
      "    Metadata:\n",
      "      creation_time   : 2020-08-25T21:59:36.000000Z\n",
      "      handler_name    : Core Media Video\n",
      "      encoder         : H.264\n",
      "    Stream #0:1(und): Audio: aac (LC) (mp4a / 0x6134706D), 48000 Hz, stereo, fltp, 122 kb/s (default)\n",
      "    Metadata:\n",
      "      creation_time   : 2020-08-25T21:59:36.000000Z\n",
      "      handler_name    : Core Media Audio\n",
      "Stream mapping:\n",
      "  Stream #0:0 -> #0:0 (h264 (native) -> h264 (libx264))\n",
      "Press [q] to stop, [?] for help\n",
      "\u001b[1;36m[libx264 @ 0x7ffb5b029200] \u001b[0musing SAR=1/1\n",
      "\u001b[1;36m[libx264 @ 0x7ffb5b029200] \u001b[0musing cpu capabilities: MMX2 SSE2Fast SSSE3 SSE4.2 AVX FMA3 BMI2 AVX2\n",
      "\u001b[1;36m[libx264 @ 0x7ffb5b029200] \u001b[0mprofile High, level 3.1\n",
      "\u001b[1;36m[libx264 @ 0x7ffb5b029200] \u001b[0m264 - core 152 - H.264/MPEG-4 AVC codec - Copyleft 2003-2017 - http://www.videolan.org/x264.html - options: cabac=1 ref=3 deblock=1:0:0 analyse=0x3:0x113 me=hex subme=7 psy=1 psy_rd=1.00:0.00 mixed_ref=1 me_range=16 chroma_me=1 trellis=1 8x8dct=1 cqm=0 deadzone=21,11 fast_pskip=1 chroma_qp_offset=-2 threads=6 lookahead_threads=1 sliced_threads=0 nr=0 decimate=1 interlaced=0 bluray_compat=0 constrained_intra=0 bframes=3 b_pyramid=2 b_adapt=1 b_bias=0 direct=1 weightb=1 open_gop=0 weightp=2 keyint=250 keyint_min=1 scenecut=40 intra_refresh=0 rc_lookahead=40 rc=abr mbtree=1 bitrate=3000 ratetol=1.0 qcomp=0.60 qpmin=0 qpmax=69 qpstep=4 ip_ratio=1.40 aq=1:1.00\n",
      "Output #0, mp4, to '../Data/Exports/TN2020-08-25-18-59-36.mp4':\n",
      "  Metadata:\n",
      "    major_brand     : qt  \n",
      "    minor_version   : 0\n",
      "    compatible_brands: qt  \n",
      "    encoder         : Lavf58.45.100\n",
      "    Stream #0:0(und): Video: h264 (libx264) (avc1 / 0x31637661), yuv420p, 1280x720 [SAR 1:1 DAR 16:9], q=-1--1, 3000 kb/s, 1 fps, 16384 tbn, 1 tbc (default)\n",
      "    Metadata:\n",
      "      creation_time   : 2020-08-25T21:59:36.000000Z\n",
      "      handler_name    : Core Media Video\n",
      "      encoder         : Lavc58.91.100 libx264\n",
      "    Side data:\n",
      "      cpb: bitrate max/min/avg: 0/0/3000000 buffer size: 0 vbv_delay: N/A\n",
      "\u001b[1;35m[mp4 @ 0x7ffb5b028000] \u001b[0mStarting second pass: moving the moov atom to the beginning of the file7.64x    \n",
      "frame= 7284 fps=7.6 q=-1.0 Lsize= 2019526kB time=02:01:21.00 bitrate=2272.2kbits/s dup=0 drop=174684 speed=7.64x    \n",
      "video:2019432kB audio:0kB subtitle:0kB other streams:0kB global headers:0kB muxing overhead: 0.004672%\n",
      "\u001b[1;36m[libx264 @ 0x7ffb5b029200] \u001b[0mframe I:232   Avg QP: 0.63  size:292028\n",
      "\u001b[1;36m[libx264 @ 0x7ffb5b029200] \u001b[0mframe P:3109  Avg QP: 0.68  size:289164\n",
      "\u001b[1;36m[libx264 @ 0x7ffb5b029200] \u001b[0mframe B:3943  Avg QP: 1.35  size:279264\n",
      "\u001b[1;36m[libx264 @ 0x7ffb5b029200] \u001b[0mconsecutive B-frames: 23.9%  9.6%  6.8% 59.7%\n",
      "\u001b[1;36m[libx264 @ 0x7ffb5b029200] \u001b[0mmb I  I16..4: 25.7% 15.4% 58.9%\n",
      "\u001b[1;36m[libx264 @ 0x7ffb5b029200] \u001b[0mmb P  I16..4: 18.3% 14.4% 41.4%  P16..4: 10.2%  7.3%  5.5%  0.0%  0.0%    skip: 2.9%\n",
      "\u001b[1;36m[libx264 @ 0x7ffb5b029200] \u001b[0mmb B  I16..4:  5.4%  5.6% 20.6%  B16..8: 25.7% 12.9%  9.6%  direct:11.2%  skip: 9.0%  L0:39.8% L1:37.7% BI:22.5%\n",
      "\u001b[1;36m[libx264 @ 0x7ffb5b029200] \u001b[0mfinal ratefactor: 3.34\n",
      "\u001b[1;36m[libx264 @ 0x7ffb5b029200] \u001b[0m8x8 transform intra:18.6% inter:17.9%\n",
      "\u001b[1;36m[libx264 @ 0x7ffb5b029200] \u001b[0mcoded y,uvDC,uvAC intra: 87.2% 89.8% 83.0% inter: 73.2% 77.3% 75.8%\n",
      "\u001b[1;36m[libx264 @ 0x7ffb5b029200] \u001b[0mi16 v,h,dc,p: 36% 29% 18% 17%\n",
      "\u001b[1;36m[libx264 @ 0x7ffb5b029200] \u001b[0mi8 v,h,dc,ddl,ddr,vr,hd,vl,hu: 28% 30% 17%  4%  4%  4%  5%  5%  5%\n",
      "\u001b[1;36m[libx264 @ 0x7ffb5b029200] \u001b[0mi4 v,h,dc,ddl,ddr,vr,hd,vl,hu: 29% 31%  8%  4%  5%  5%  6%  5%  5%\n",
      "\u001b[1;36m[libx264 @ 0x7ffb5b029200] \u001b[0mi8c dc,h,v,p: 35% 30% 22% 13%\n",
      "\u001b[1;36m[libx264 @ 0x7ffb5b029200] \u001b[0mWeighted P-Frames: Y:0.5% UV:0.3%\n",
      "\u001b[1;36m[libx264 @ 0x7ffb5b029200] \u001b[0mref P L0: 56.9% 12.8% 17.0% 13.2%  0.0%\n",
      "\u001b[1;36m[libx264 @ 0x7ffb5b029200] \u001b[0mref B L0: 84.9% 11.1%  3.9%\n",
      "\u001b[1;36m[libx264 @ 0x7ffb5b029200] \u001b[0mref B L1: 94.8%  5.2%\n",
      "\u001b[1;36m[libx264 @ 0x7ffb5b029200] \u001b[0mkb/s:2271.17\n",
      "Done\n"
     ]
    }
   ],
   "source": [
    "#Video procesing\n",
    "!ffmpeg -i $file_in -an -r 1 -s 1280x720 -c:v libx264 -b:v 3M -strict -2 -movflags faststart $file_out_v\n",
    "print(\"Done\")"
   ]
  },
  {
   "cell_type": "code",
   "execution_count": 9,
   "metadata": {},
   "outputs": [
    {
     "name": "stdout",
     "output_type": "stream",
     "text": [
      "ffmpeg version 4.3.1 Copyright (c) 2000-2020 the FFmpeg developers\n",
      "  built with clang version 10.0.1\n",
      "  configuration: --prefix=/Users/runner/miniforge3/conda-bld/ffmpeg_1596712264195/_h_env_placehold_placehold_placehold_placehold_placehold_placehold_placehold_placehold_placehold_placehold_placehold_placehold_placehold_placehold_placehold_placehold_placehold_placehold_placehold_pl --cc=x86_64-apple-darwin13.4.0-clang --disable-doc --disable-openssl --enable-avresample --enable-gnutls --enable-gpl --enable-hardcoded-tables --enable-libfreetype --enable-libopenh264 --enable-libx264 --enable-pic --enable-pthreads --enable-shared --enable-static --enable-version3 --enable-zlib --enable-libmp3lame\n",
      "  libavutil      56. 51.100 / 56. 51.100\n",
      "  libavcodec     58. 91.100 / 58. 91.100\n",
      "  libavformat    58. 45.100 / 58. 45.100\n",
      "  libavdevice    58. 10.100 / 58. 10.100\n",
      "  libavfilter     7. 85.100 /  7. 85.100\n",
      "  libavresample   4.  0.  0 /  4.  0.  0\n",
      "  libswscale      5.  7.100 /  5.  7.100\n",
      "  libswresample   3.  7.100 /  3.  7.100\n",
      "  libpostproc    55.  7.100 / 55.  7.100\n",
      "Input #0, mov,mp4,m4a,3gp,3g2,mj2, from '../Data/Originales/TN2020-08-25-18-59-36.mov':\n",
      "  Metadata:\n",
      "    major_brand     : qt  \n",
      "    minor_version   : 0\n",
      "    compatible_brands: qt  \n",
      "    creation_time   : 2020-08-25T21:59:36.000000Z\n",
      "  Duration: 02:01:22.00, start: 0.000000, bitrate: 7544 kb/s\n",
      "    Stream #0:0(und): Video: h264 (High) (avc1 / 0x31637661), yuv420p, 1280x720 [SAR 1:1 DAR 16:9], 7412 kb/s, 24.99 fps, 25 tbr, 600 tbn, 1200 tbc (default)\n",
      "    Metadata:\n",
      "      creation_time   : 2020-08-25T21:59:36.000000Z\n",
      "      handler_name    : Core Media Video\n",
      "      encoder         : H.264\n",
      "    Stream #0:1(und): Audio: aac (LC) (mp4a / 0x6134706D), 48000 Hz, stereo, fltp, 122 kb/s (default)\n",
      "    Metadata:\n",
      "      creation_time   : 2020-08-25T21:59:36.000000Z\n",
      "      handler_name    : Core Media Audio\n",
      "Stream mapping:\n",
      "  Stream #0:1 -> #0:0 (aac (native) -> pcm_s16le (native))\n",
      "Press [q] to stop, [?] for help\n",
      "Output #0, wav, to '../Data/Exports/TN2020-08-25-18-59-36.wav':\n",
      "  Metadata:\n",
      "    major_brand     : qt  \n",
      "    minor_version   : 0\n",
      "    compatible_brands: qt  \n",
      "    ISFT            : Lavf58.45.100\n",
      "    Stream #0:0(und): Audio: pcm_s16le ([1][0][0][0] / 0x0001), 22050 Hz, mono, s16, 352 kb/s (default)\n",
      "    Metadata:\n",
      "      creation_time   : 2020-08-25T21:59:36.000000Z\n",
      "      handler_name    : Core Media Audio\n",
      "      encoder         : Lavc58.91.100 pcm_s16le\n",
      "size=  313610kB time=02:01:22.00 bitrate= 352.8kbits/s speed= 351x    \n",
      "video:0kB audio:313610kB subtitle:0kB other streams:0kB global headers:0kB muxing overhead: 0.000024%\n",
      "Done\n"
     ]
    }
   ],
   "source": [
    "#audio extraction\n",
    "!ffmpeg -i $file_in -vn -acodec pcm_s16le -ac 1 -ar 22050 $file_out_a\n",
    "print(\"Done\")"
   ]
  },
  {
   "cell_type": "code",
   "execution_count": 10,
   "metadata": {},
   "outputs": [],
   "source": [
    "#!ffmpeg -formats"
   ]
  },
  {
   "cell_type": "code",
   "execution_count": null,
   "metadata": {},
   "outputs": [],
   "source": []
  }
 ],
 "metadata": {
  "kernelspec": {
   "display_name": "Python 3",
   "language": "python",
   "name": "python3"
  },
  "language_info": {
   "codemirror_mode": {
    "name": "ipython",
    "version": 3
   },
   "file_extension": ".py",
   "mimetype": "text/x-python",
   "name": "python",
   "nbconvert_exporter": "python",
   "pygments_lexer": "ipython3",
   "version": "3.8.5"
  }
 },
 "nbformat": 4,
 "nbformat_minor": 4
}
